{
 "cells": [
  {
   "cell_type": "markdown",
   "id": "de109b20-086f-4837-a889-91f7d02789f0",
   "metadata": {},
   "source": [
    "# Data cleaning process\n",
    "\n",
    "On this notebook the data cleaning process will be performed over the raw data."
   ]
  },
  {
   "cell_type": "markdown",
   "id": "26e60261-afbd-44b6-992a-e4d23ccd2825",
   "metadata": {},
   "source": [
    "## Importing dependencies"
   ]
  },
  {
   "cell_type": "code",
   "execution_count": 1,
   "id": "ff5431d4-c237-4330-a3c2-7c3159e5a1b2",
   "metadata": {},
   "outputs": [],
   "source": [
    "import pandas as pd # To handle data\n",
    "# To compress the results\n",
    "import os\n",
    "import zipfile\n",
    "from zipfile import ZipFile\n",
    "# To visualize whole dataframes\n",
    "pd.set_option(\"display.max_rows\", None, \"display.max_columns\", None) "
   ]
  },
  {
   "cell_type": "markdown",
   "id": "19a955bf-d138-49eb-b1fe-4822c8052011",
   "metadata": {},
   "source": [
    "## Loading raw data"
   ]
  },
  {
   "cell_type": "markdown",
   "id": "ed7e87c1-6e3b-4337-a819-435cd12b23b4",
   "metadata": {},
   "source": [
    "We will load the videogames and platforms csv files stored in `raw_data` folder."
   ]
  },
  {
   "cell_type": "code",
   "execution_count": 2,
   "id": "b2f91373-af56-4353-b954-b7c36d415d6b",
   "metadata": {},
   "outputs": [],
   "source": [
    "platforms_df = pd.read_csv('./raw_data/platforms.zip')\n",
    "games_df = pd.read_csv('./raw_data/games.zip')"
   ]
  },
  {
   "cell_type": "code",
   "execution_count": 3,
   "id": "18d020a2-5f5d-4c7a-b7ea-89d56b03cd94",
   "metadata": {},
   "outputs": [
    {
     "name": "stdout",
     "output_type": "stream",
     "text": [
      "Platforms Dataframe\n"
     ]
    },
    {
     "data": {
      "text/html": [
       "<div>\n",
       "<style scoped>\n",
       "    .dataframe tbody tr th:only-of-type {\n",
       "        vertical-align: middle;\n",
       "    }\n",
       "\n",
       "    .dataframe tbody tr th {\n",
       "        vertical-align: top;\n",
       "    }\n",
       "\n",
       "    .dataframe thead th {\n",
       "        text-align: right;\n",
       "    }\n",
       "</style>\n",
       "<table border=\"1\" class=\"dataframe\">\n",
       "  <thead>\n",
       "    <tr style=\"text-align: right;\">\n",
       "      <th></th>\n",
       "      <th>id</th>\n",
       "      <th>platform</th>\n",
       "      <th>version</th>\n",
       "      <th>category</th>\n",
       "      <th>generation</th>\n",
       "      <th>platform_family</th>\n",
       "      <th>region</th>\n",
       "      <th>release_date</th>\n",
       "    </tr>\n",
       "  </thead>\n",
       "  <tbody>\n",
       "    <tr>\n",
       "      <th>0</th>\n",
       "      <td>158</td>\n",
       "      <td>Commodore CDTV</td>\n",
       "      <td>Initial version</td>\n",
       "      <td>computer</td>\n",
       "      <td>NaN</td>\n",
       "      <td>NaN</td>\n",
       "      <td>north_america</td>\n",
       "      <td>1991-03-03</td>\n",
       "    </tr>\n",
       "    <tr>\n",
       "      <th>1</th>\n",
       "      <td>158</td>\n",
       "      <td>Commodore CDTV</td>\n",
       "      <td>Initial version</td>\n",
       "      <td>computer</td>\n",
       "      <td>NaN</td>\n",
       "      <td>NaN</td>\n",
       "      <td>europe</td>\n",
       "      <td>1991-11-14</td>\n",
       "    </tr>\n",
       "    <tr>\n",
       "      <th>2</th>\n",
       "      <td>158</td>\n",
       "      <td>Commodore CDTV</td>\n",
       "      <td>Initial version</td>\n",
       "      <td>computer</td>\n",
       "      <td>NaN</td>\n",
       "      <td>NaN</td>\n",
       "      <td>australia</td>\n",
       "      <td>1991-07-12</td>\n",
       "    </tr>\n",
       "    <tr>\n",
       "      <th>3</th>\n",
       "      <td>339</td>\n",
       "      <td>Sega Pico</td>\n",
       "      <td>Initial version</td>\n",
       "      <td>console</td>\n",
       "      <td>4.0</td>\n",
       "      <td>Sega</td>\n",
       "      <td>NaN</td>\n",
       "      <td>NaN</td>\n",
       "    </tr>\n",
       "    <tr>\n",
       "      <th>4</th>\n",
       "      <td>8</td>\n",
       "      <td>PlayStation 2</td>\n",
       "      <td>Initial version</td>\n",
       "      <td>console</td>\n",
       "      <td>6.0</td>\n",
       "      <td>PlayStation</td>\n",
       "      <td>japan</td>\n",
       "      <td>2000-03-04</td>\n",
       "    </tr>\n",
       "  </tbody>\n",
       "</table>\n",
       "</div>"
      ],
      "text/plain": [
       "    id        platform          version  category  generation platform_family  \\\n",
       "0  158  Commodore CDTV  Initial version  computer         NaN             NaN   \n",
       "1  158  Commodore CDTV  Initial version  computer         NaN             NaN   \n",
       "2  158  Commodore CDTV  Initial version  computer         NaN             NaN   \n",
       "3  339       Sega Pico  Initial version   console         4.0            Sega   \n",
       "4    8   PlayStation 2  Initial version   console         6.0     PlayStation   \n",
       "\n",
       "          region release_date  \n",
       "0  north_america   1991-03-03  \n",
       "1         europe   1991-11-14  \n",
       "2      australia   1991-07-12  \n",
       "3            NaN          NaN  \n",
       "4          japan   2000-03-04  "
      ]
     },
     "execution_count": 3,
     "metadata": {},
     "output_type": "execute_result"
    }
   ],
   "source": [
    "print('Platforms Dataframe')\n",
    "platforms_df.head()"
   ]
  },
  {
   "cell_type": "markdown",
   "id": "77856ada-9e55-4b6c-8ca9-604b2c04d6f9",
   "metadata": {},
   "source": [
    "## Video games dataframe cleaning"
   ]
  },
  {
   "cell_type": "markdown",
   "id": "80e5c534-141c-481e-9c7e-0925ab22d73b",
   "metadata": {},
   "source": [
    "### Removing duplicated values"
   ]
  },
  {
   "cell_type": "code",
   "execution_count": 4,
   "id": "9b626b12-fb0c-4775-b13a-024467244ac9",
   "metadata": {},
   "outputs": [
    {
     "name": "stdout",
     "output_type": "stream",
     "text": [
      "Number of repeated rows: 1254886\n",
      "Number of remaining rows: 518493\n"
     ]
    }
   ],
   "source": [
    "duplicates = games_df.duplicated()\n",
    "print(f'Number of repeated rows: {duplicates.sum()}')\n",
    "games_df.drop_duplicates(inplace=True, ignore_index=True)\n",
    "print(f'Number of remaining rows: {len(games_df)}')"
   ]
  },
  {
   "cell_type": "markdown",
   "id": "b50ff4b9-d77f-4f59-912a-040837c7d160",
   "metadata": {},
   "source": [
    "### Column types correction"
   ]
  },
  {
   "cell_type": "code",
   "execution_count": 5,
   "id": "352110e7-2b4d-4cdf-998f-f1b53fd75541",
   "metadata": {},
   "outputs": [
    {
     "data": {
      "text/plain": [
       "id                int64\n",
       "name             object\n",
       "platform         object\n",
       "release_date     object\n",
       "genre            object\n",
       "category         object\n",
       "game_modes       object\n",
       "total_rating    float64\n",
       "dtype: object"
      ]
     },
     "execution_count": 5,
     "metadata": {},
     "output_type": "execute_result"
    }
   ],
   "source": [
    "games_df.dtypes"
   ]
  },
  {
   "cell_type": "markdown",
   "id": "4af538e5-a1ce-48f2-b6e9-2361b230ca75",
   "metadata": {},
   "source": [
    "The only column which needs a type correction is `release_date` column."
   ]
  },
  {
   "cell_type": "code",
   "execution_count": 6,
   "id": "b3c98670-ea72-4554-8ed6-c0cb90b54829",
   "metadata": {},
   "outputs": [
    {
     "data": {
      "text/plain": [
       "id                       int64\n",
       "name                    object\n",
       "platform                object\n",
       "release_date    datetime64[ns]\n",
       "genre                   object\n",
       "category                object\n",
       "game_modes              object\n",
       "total_rating           float64\n",
       "dtype: object"
      ]
     },
     "execution_count": 6,
     "metadata": {},
     "output_type": "execute_result"
    }
   ],
   "source": [
    "games_df.release_date = pd.to_datetime(games_df.release_date)\n",
    "games_df.dtypes"
   ]
  },
  {
   "cell_type": "markdown",
   "id": "cab4cf9b-7050-49a3-b1a2-9f6cfe3615a3",
   "metadata": {},
   "source": [
    "### Missing values handling"
   ]
  },
  {
   "cell_type": "code",
   "execution_count": 7,
   "id": "8f44c892-5df7-47b0-bc6b-8ac8aeba4006",
   "metadata": {},
   "outputs": [
    {
     "name": "stdout",
     "output_type": "stream",
     "text": [
      "Number of missing values per column\n",
      "\n",
      "Total rows = 518493\n",
      "\n",
      "id (int64): 0 = 0.0%\n",
      "name (object): 0 = 0.0%\n",
      "platform (object): 0 = 0.0%\n",
      "release_date (datetime64[ns]): 10919 = 2.105910783752143%\n",
      "genre (object): 12743 = 2.457699525355212%\n",
      "category (object): 0 = 0.0%\n",
      "game_modes (object): 48700 = 9.39260510749422%\n",
      "total_rating (float64): 249179 = 48.05831515565302%\n"
     ]
    }
   ],
   "source": [
    "print('Number of missing values per column\\n')\n",
    "n_rows = len(games_df)\n",
    "print(f'Total rows = {len(games_df)}\\n')\n",
    "\n",
    "for c in games_df.columns:\n",
    "    n_nans = games_df[c].isna().sum()\n",
    "    print(f'{c} ({games_df[c].dtype}): {n_nans} = {(n_nans/n_rows)*100}%')"
   ]
  },
  {
   "cell_type": "markdown",
   "id": "680cfbd5-6188-45cc-91e1-55970c878716",
   "metadata": {},
   "source": [
    "Unfortunately, `total_rating` column has 35% of missing values. We have no choice but to remove this rows since this column is the main variable of our analysis and we can not impute it at all. At the same time, for the previous reason, all other columns can preserve their null values since they are secondary variables."
   ]
  },
  {
   "cell_type": "code",
   "execution_count": 8,
   "id": "803ac1fa-e1ad-401f-a2cc-64cd2856b22f",
   "metadata": {},
   "outputs": [
    {
     "name": "stdout",
     "output_type": "stream",
     "text": [
      "Number of missing values per column\n",
      "\n",
      "Total rows = 518493\n",
      "\n",
      "id (int64): 0 = 0.0%\n",
      "name (object): 0 = 0.0%\n",
      "platform (object): 0 = 0.0%\n",
      "release_date (datetime64[ns]): 70 = 0.01350066442555637%\n",
      "genre (object): 1504 = 0.2900714185148112%\n",
      "category (object): 0 = 0.0%\n",
      "game_modes (object): 6553 = 1.2638550568667273%\n",
      "total_rating (float64): 0 = 0.0%\n"
     ]
    }
   ],
   "source": [
    "print('Number of missing values per column\\n')\n",
    "n_rows = len(games_df)\n",
    "print(f'Total rows = {len(games_df)}\\n')\n",
    "\n",
    "games_df = games_df[games_df.total_rating.notna()]\n",
    "\n",
    "for c in games_df.columns:\n",
    "    n_nans = games_df[c].isna().sum()\n",
    "    print(f'{c} ({games_df[c].dtype}): {n_nans} = {(n_nans/n_rows)*100}%')"
   ]
  },
  {
   "cell_type": "markdown",
   "id": "1841eb01-75b2-443c-821a-0862739b204e",
   "metadata": {},
   "source": [
    "We can see that just removing `total_rating` nans the null  values percentage in all the other columns was drastically reduced. This gives us the idea that, if a row had missing `total_rating`, it contained `release_date`, `genre` and `game_modes` null values as well. In other words, rows with no rating were, in general, useless.\n",
    "\n",
    "We can preserve remaining nans because two reasonts: first, `total_rating` column has the highest importance for our analysis. Remaining nans are distributed across less important columns which could be use useful as auxiliar features in a deeper analysis; and second, if rows whith missing values are removed we will be loosing rated video games."
   ]
  },
  {
   "cell_type": "markdown",
   "id": "72f32eec-1f7f-4592-8dba-d48e1bf798da",
   "metadata": {},
   "source": [
    "### Outlier detection"
   ]
  },
  {
   "cell_type": "markdown",
   "id": "5addf9c5-72dd-4f9a-9d60-87f53cb4ebf9",
   "metadata": {},
   "source": [
    "In this phase the **Z-score** of `total_rating` column will be computed to identify outliers. Again, as in the platforms dataframe, the outliers will not be excluded since they could be specially interesting for our purposes."
   ]
  },
  {
   "cell_type": "code",
   "execution_count": 9,
   "id": "babe25da-5518-4464-b51d-bd70885fe217",
   "metadata": {},
   "outputs": [
    {
     "name": "stdout",
     "output_type": "stream",
     "text": [
      "Number of outlier rows: 384 (0.14258449245119081)%\n"
     ]
    },
    {
     "data": {
      "image/png": "[encoded data removed]",
      "text/plain": [
       "<Figure size 432x288 with 1 Axes>"
      ]
     },
     "metadata": {
      "needs_background": "light"
     },
     "output_type": "display_data"
    }
   ],
   "source": [
    "outliers_mask = abs(\n",
    "    (\n",
    "        games_df.total_rating-games_df.total_rating.mean()\n",
    "    )/games_df.total_rating.std()\n",
    ") >= 4\n",
    "outliers = games_df[outliers_mask]\n",
    "print(f'Number of outlier rows: {len(outliers)} ({len(outliers)*100/len(games_df)})%')\n",
    "_ = outliers.total_rating.plot(kind='box', title='Rating outlier distribution')"
   ]
  },
  {
   "cell_type": "markdown",
   "id": "657d928d-6772-4af1-a6c1-cce74dd92695",
   "metadata": {},
   "source": [
    "As we can see, low ratings are considered as outliers. This rows are very important to our analysis because through them we can get an idea of which videogames had been the worst and which platform are associated with them."
   ]
  },
  {
   "cell_type": "markdown",
   "id": "2b405cd0-7c89-406a-950f-70c837f4adcf",
   "metadata": {},
   "source": [
    "## Platforms dataframe cleaning"
   ]
  },
  {
   "cell_type": "markdown",
   "id": "296cbd1e-6140-486e-833d-aac3d9a43bf8",
   "metadata": {},
   "source": [
    "### Removing duplicated values"
   ]
  },
  {
   "cell_type": "code",
   "execution_count": 10,
   "id": "a4f5090f-480c-4994-936b-deead22768f9",
   "metadata": {},
   "outputs": [
    {
     "name": "stdout",
     "output_type": "stream",
     "text": [
      "Number of repeated rows: 1\n",
      "Number of remaining rows: 432\n"
     ]
    }
   ],
   "source": [
    "duplicates = platforms_df.duplicated()\n",
    "print(f'Number of repeated rows: {duplicates.sum()}')\n",
    "platforms_df.drop_duplicates(inplace=True, ignore_index=True)\n",
    "print(f'Number of remaining rows: {len(platforms_df)}')"
   ]
  },
  {
   "cell_type": "markdown",
   "id": "086bc717-561f-4ac0-961c-0cdf173a5548",
   "metadata": {},
   "source": [
    "### Column types correction"
   ]
  },
  {
   "cell_type": "code",
   "execution_count": 11,
   "id": "558a3c86-816a-4ac5-986a-00d4068d5e81",
   "metadata": {},
   "outputs": [
    {
     "data": {
      "text/plain": [
       "id                   int64\n",
       "platform            object\n",
       "version             object\n",
       "category            object\n",
       "generation         float64\n",
       "platform_family     object\n",
       "region              object\n",
       "release_date        object\n",
       "dtype: object"
      ]
     },
     "execution_count": 11,
     "metadata": {},
     "output_type": "execute_result"
    }
   ],
   "source": [
    "platforms_df.dtypes"
   ]
  },
  {
   "cell_type": "markdown",
   "id": "306759fd-bea4-41c5-ad81-9be6b8d5168a",
   "metadata": {},
   "source": [
    "As it can be seen, `generation` column is encoded as `float64` and `release_date` column is shown as `object`. We need to correct this."
   ]
  },
  {
   "cell_type": "code",
   "execution_count": 12,
   "id": "039e2ede-91b6-4c8c-8644-7305ec322d95",
   "metadata": {},
   "outputs": [
    {
     "name": "stdout",
     "output_type": "stream",
     "text": [
      "New dtypes\n"
     ]
    },
    {
     "data": {
      "text/plain": [
       "id                          int64\n",
       "platform                   object\n",
       "version                    object\n",
       "category                   object\n",
       "generation                  Int64\n",
       "platform_family            object\n",
       "region                     object\n",
       "release_date       datetime64[ns]\n",
       "dtype: object"
      ]
     },
     "execution_count": 12,
     "metadata": {},
     "output_type": "execute_result"
    }
   ],
   "source": [
    "platforms_df = platforms_df.astype(\n",
    "    {'generation':'Int64', \n",
    "     'release_date':'datetime64'}\n",
    ")\n",
    "\n",
    "print('New dtypes')\n",
    "platforms_df.dtypes"
   ]
  },
  {
   "cell_type": "markdown",
   "id": "90e2ea09-ea33-4c2d-ae5a-309bad95c038",
   "metadata": {},
   "source": [
    "### Useless rows deletion"
   ]
  },
  {
   "cell_type": "markdown",
   "id": "2292c8ef-f6f3-4923-bbf9-c99a1fe46d59",
   "metadata": {},
   "source": [
    "It may happen that some platform does not have any video game registered in the IGDB databases, or platforms related to previously removed rows of `games_df`. Since games are our main interest, then all platforms without associated videogames will be deleted."
   ]
  },
  {
   "cell_type": "code",
   "execution_count": 13,
   "id": "5d99aff6-d309-4b99-914b-69aa064fa2b5",
   "metadata": {},
   "outputs": [
    {
     "name": "stdout",
     "output_type": "stream",
     "text": [
      "Original number of platforms: 432\n",
      "Number of platforms after useless row deletion: 383\n"
     ]
    }
   ],
   "source": [
    "print(f'Original number of platforms: {len(platforms_df)}')\n",
    "platforms_df = platforms_df[platforms_df.platform.isin(games_df.platform)]\n",
    "print(f'Number of platforms after useless row deletion: {len(platforms_df)}')"
   ]
  },
  {
   "cell_type": "markdown",
   "id": "bf438483-eb01-418a-9f0a-146e218eaaa8",
   "metadata": {},
   "source": [
    "### Missing values handling"
   ]
  },
  {
   "cell_type": "code",
   "execution_count": 14,
   "id": "4d66a357-0d03-49a5-8bd4-9ec63dc5f567",
   "metadata": {},
   "outputs": [
    {
     "name": "stdout",
     "output_type": "stream",
     "text": [
      "Number of missing values per column\n",
      "\n",
      "Total rows = 383\n",
      "\n",
      "id (int64): 0 = 0.0%\n",
      "platform (object): 0 = 0.0%\n",
      "version (object): 0 = 0.0%\n",
      "category (object): 9 = 2.3498694516971277%\n",
      "generation (Int64): 126 = 32.89817232375979%\n",
      "platform_family (object): 183 = 47.78067885117493%\n",
      "region (object): 58 = 15.143603133159269%\n",
      "release_date (datetime64[ns]): 58 = 15.143603133159269%\n"
     ]
    }
   ],
   "source": [
    "print('Number of missing values per column\\n')\n",
    "n_rows = len(platforms_df)\n",
    "print(f'Total rows = {len(platforms_df)}\\n')\n",
    "\n",
    "for c in platforms_df.columns:\n",
    "    n_nans = platforms_df[c].isna().sum()\n",
    "    print(f'{c} ({platforms_df[c].dtype}): {n_nans} = {(n_nans/n_rows)*100}%')"
   ]
  },
  {
   "cell_type": "markdown",
   "id": "c74a0ff9-c20b-4878-8477-49300c7b5390",
   "metadata": {},
   "source": [
    "As we can see, we have an important ammonunt of missing values in five of eight columns. In this case we can not impute easily because three of the columns with missing values are `object` columns, and in this columns we can not just impute with the most recurrent value because we would be adding a lot of false information. If we want to reduce the number of missing values without loosing data, then we will need to do some research about platform families, release dates, etc, which is not the purpose of this work. The only variable we can impute is `generation` since the generation for a given platform is based on the release date of it.\n",
    "\n",
    "On the other hand, `category`, `platform_family`, `region` and `release_date` missing values are not so important and we will preserve this columns because two main reasons: first, although they are not so importan to answer the main questions we have, these columns may be importan to perform a deeper analysis; and second, if we just delete the rows with missing values on those columns we will be loosing vital information because all remaining platform this far are linked with one or more video games."
   ]
  },
  {
   "cell_type": "markdown",
   "id": "88315d47-ce29-4ca4-9bf0-fa31dfd17b3f",
   "metadata": {},
   "source": [
    "#### Platform generation missing values imputation"
   ]
  },
  {
   "cell_type": "markdown",
   "id": "187118e6-535e-4548-a958-e9e2e6e0c966",
   "metadata": {},
   "source": [
    "Accodring to [this BBC article](https://www.bbc.co.uk/archive/the-8-generations-of-video-game-consoles/zvcjkty), the game consoles generations had been established as follows:\n",
    "\n",
    "| Generation | Start year | \n",
    "| ---------- | ------ |\n",
    "| 1          | 1972 |    \n",
    "| 2          | 1976 |\n",
    "| 3          | 1983 |\n",
    "| 4          | 1987 |\n",
    "| 5          | 1993 |\n",
    "| 6          | 1998 |\n",
    "| 7          | 2005 |\n",
    "| 8          | 2012 |\n",
    "| 9          | 2020 |\n",
    "\n",
    "Using this information we can impute a lot of `generation` values but we need to be careful. This process can not be performed directly, since the generation for a given console is stablished according to the release date of its **initial version**. For example, *Super Nintendo Entertainment System (SNES)* is a 4th generation console, but its last version was released on 2017, four generations later!. \n",
    "\n",
    "The algorithm is the following:\n",
    "\n",
    "* For a row where `version` == 'Initial version' and `generation` == Nan and `release_date` != NaN:\n",
    "    * impute the generation according to the year of its release date, lets say `generation` = **G**\n",
    "    * for all other rows where `platform` == **current platform**:\n",
    "        * impute generation with **G**\n",
    "\n",
    "As we need to find a lot of generations, the following function was built."
   ]
  },
  {
   "cell_type": "code",
   "execution_count": 15,
   "id": "713ca795-349c-4242-88cd-0b673f5ea678",
   "metadata": {},
   "outputs": [],
   "source": [
    "def getGeneration(release_year):\n",
    "    \"\"\"\n",
    "        This function finds a video game console generation\n",
    "        \n",
    "        Params\n",
    "        ------\n",
    "        release_year <int>: Release year\n",
    "        \n",
    "        Returns\n",
    "        -------\n",
    "        generation <int>: Video games generation of the given release year\n",
    "    \"\"\"\n",
    "    if release_year < 1972:\n",
    "        generation = 0\n",
    "    if release_year >= 1972 and release_year < 1976:\n",
    "        generation = 1\n",
    "    if release_year >= 1976 and release_year < 1983:\n",
    "        generation = 2\n",
    "    if release_year >= 1983 and release_year < 1987:\n",
    "        generation = 3\n",
    "    if release_year >= 1987 and release_year < 1993:\n",
    "        generation = 4\n",
    "    if release_year >= 1993 and release_year < 1998:\n",
    "        generation = 5\n",
    "    if release_year >= 1998 and release_year < 2005:\n",
    "        generation = 6\n",
    "    if release_year >= 2005 and release_year < 2012:\n",
    "        generation = 7\n",
    "    if release_year >= 2012 and release_year < 2020:\n",
    "        generation = 8\n",
    "    if release_year >= 2020:\n",
    "        generation = 9\n",
    "    \n",
    "    return generation"
   ]
  },
  {
   "cell_type": "code",
   "execution_count": 16,
   "id": "830e1b8e-aefd-4c34-9cb1-66e081bc06d5",
   "metadata": {
    "tags": []
   },
   "outputs": [
    {
     "name": "stdout",
     "output_type": "stream",
     "text": [
      "Number of NaN's in generation column before imputation 126\n",
      "Number of NaN's in generation column after imputation 89\n"
     ]
    }
   ],
   "source": [
    "print(f\"Number of NaN's in generation column before imputation {platforms_df.generation.isnull().sum()}\")\n",
    "\n",
    "for i in range(len(platforms_df)):\n",
    "    # Getting current row\n",
    "    row = platforms_df.iloc[i]\n",
    "    # Checking if version is Initial version and generation == NaN and \n",
    "    # release_date != NaN\n",
    "    if (row[2]=='Initial version' and pd.isnull(row[4])\n",
    "        and not pd.isnull(row[7])):\n",
    "        # Getting generation according the release year\n",
    "        release_year = row[7].year\n",
    "        current_platform = row[1]\n",
    "        platforms_df.loc[\n",
    "            platforms_df.platform == current_platform, \"generation\"\n",
    "        ] = getGeneration(release_year)\n",
    "\n",
    "print(f\"Number of NaN's in generation column after imputation {platforms_df.generation.isnull().sum()}\")\n",
    "        "
   ]
  },
  {
   "cell_type": "markdown",
   "id": "aa81dbf4-0066-4345-b0bf-a4e37855ee65",
   "metadata": {},
   "source": [
    "We can see that there are a lot of remaning NaN's in `generation` column. Now a different algorithm will be used to get an approximation:\n",
    "\n",
    "* For a row where `generation` is null:\n",
    "    * get all rows where `platform` == current platform\n",
    "    * compare all the release years and get the minimum\n",
    "    * impute the generation according to the first recorded release year"
   ]
  },
  {
   "cell_type": "code",
   "execution_count": 17,
   "id": "f5874484-19f9-493c-ac36-84f215e15311",
   "metadata": {
    "tags": []
   },
   "outputs": [
    {
     "name": "stdout",
     "output_type": "stream",
     "text": [
      "Number of NaN's in generation column before imputation 89\n",
      "Number of NaN's in generation column after imputation 38\n"
     ]
    }
   ],
   "source": [
    "print(f\"Number of NaN's in generation column before imputation {platforms_df.generation.isnull().sum()}\")\n",
    "\n",
    "for i in range(len(platforms_df)):\n",
    "    # Getting current row\n",
    "    row = platforms_df.iloc[i]\n",
    "    # Checking if generation column value is null\n",
    "    if pd.isnull(row[4]):\n",
    "        # Getting current platform\n",
    "        current_platform = row[1]\n",
    "        # Getring all rows corresponding to the current platform\n",
    "        platform_records=platforms_df[platforms_df.platform==current_platform]\n",
    "        # Getting the first release year recorded for the current platform\n",
    "        first_release_year = platform_records.release_date.dt.year.min()\n",
    "        # If the first release year is not null, then impute the generation in\n",
    "        # all the rows corresponding to the current platform\n",
    "        if not pd.isnull(first_release_year):\n",
    "            platforms_df.loc[\n",
    "                platforms_df.platform == current_platform, \"generation\"\n",
    "            ] = getGeneration(first_release_year)\n",
    "            \n",
    "print(f\"Number of NaN's in generation column after imputation {platforms_df.generation.isnull().sum()}\")"
   ]
  },
  {
   "cell_type": "markdown",
   "id": "b0e0cf12-aa2a-47e7-8544-499369708745",
   "metadata": {},
   "source": [
    "With the latter imputation algorithm the generation column missing values were reduced significantly. There is nothing more we can do to impute generations programmatically because all remaining rows with missing generation also have missing release date."
   ]
  },
  {
   "cell_type": "code",
   "execution_count": 18,
   "id": "79329f0d-bc44-488a-8837-84730f7325d8",
   "metadata": {},
   "outputs": [
    {
     "data": {
      "text/html": [
       "<div>\n",
       "<style scoped>\n",
       "    .dataframe tbody tr th:only-of-type {\n",
       "        vertical-align: middle;\n",
       "    }\n",
       "\n",
       "    .dataframe tbody tr th {\n",
       "        vertical-align: top;\n",
       "    }\n",
       "\n",
       "    .dataframe thead th {\n",
       "        text-align: right;\n",
       "    }\n",
       "</style>\n",
       "<table border=\"1\" class=\"dataframe\">\n",
       "  <thead>\n",
       "    <tr style=\"text-align: right;\">\n",
       "      <th></th>\n",
       "      <th>id</th>\n",
       "      <th>platform</th>\n",
       "      <th>version</th>\n",
       "      <th>category</th>\n",
       "      <th>generation</th>\n",
       "      <th>platform_family</th>\n",
       "      <th>region</th>\n",
       "      <th>release_date</th>\n",
       "    </tr>\n",
       "  </thead>\n",
       "  <tbody>\n",
       "    <tr>\n",
       "      <th>0</th>\n",
       "      <td>158</td>\n",
       "      <td>Commodore CDTV</td>\n",
       "      <td>Initial version</td>\n",
       "      <td>computer</td>\n",
       "      <td>4</td>\n",
       "      <td>NaN</td>\n",
       "      <td>north_america</td>\n",
       "      <td>1991-03-03</td>\n",
       "    </tr>\n",
       "    <tr>\n",
       "      <th>1</th>\n",
       "      <td>158</td>\n",
       "      <td>Commodore CDTV</td>\n",
       "      <td>Initial version</td>\n",
       "      <td>computer</td>\n",
       "      <td>4</td>\n",
       "      <td>NaN</td>\n",
       "      <td>europe</td>\n",
       "      <td>1991-11-14</td>\n",
       "    </tr>\n",
       "    <tr>\n",
       "      <th>2</th>\n",
       "      <td>158</td>\n",
       "      <td>Commodore CDTV</td>\n",
       "      <td>Initial version</td>\n",
       "      <td>computer</td>\n",
       "      <td>4</td>\n",
       "      <td>NaN</td>\n",
       "      <td>australia</td>\n",
       "      <td>1991-07-12</td>\n",
       "    </tr>\n",
       "    <tr>\n",
       "      <th>4</th>\n",
       "      <td>8</td>\n",
       "      <td>PlayStation 2</td>\n",
       "      <td>Initial version</td>\n",
       "      <td>console</td>\n",
       "      <td>6</td>\n",
       "      <td>PlayStation</td>\n",
       "      <td>japan</td>\n",
       "      <td>2000-03-04</td>\n",
       "    </tr>\n",
       "    <tr>\n",
       "      <th>5</th>\n",
       "      <td>8</td>\n",
       "      <td>PlayStation 2</td>\n",
       "      <td>Initial version</td>\n",
       "      <td>console</td>\n",
       "      <td>6</td>\n",
       "      <td>PlayStation</td>\n",
       "      <td>north_america</td>\n",
       "      <td>2000-10-26</td>\n",
       "    </tr>\n",
       "    <tr>\n",
       "      <th>6</th>\n",
       "      <td>8</td>\n",
       "      <td>PlayStation 2</td>\n",
       "      <td>Initial version</td>\n",
       "      <td>console</td>\n",
       "      <td>6</td>\n",
       "      <td>PlayStation</td>\n",
       "      <td>europe</td>\n",
       "      <td>2000-11-24</td>\n",
       "    </tr>\n",
       "    <tr>\n",
       "      <th>7</th>\n",
       "      <td>8</td>\n",
       "      <td>PlayStation 2</td>\n",
       "      <td>Initial version</td>\n",
       "      <td>console</td>\n",
       "      <td>6</td>\n",
       "      <td>PlayStation</td>\n",
       "      <td>australia</td>\n",
       "      <td>2000-11-30</td>\n",
       "    </tr>\n",
       "    <tr>\n",
       "      <th>8</th>\n",
       "      <td>8</td>\n",
       "      <td>PlayStation 2</td>\n",
       "      <td>Initial version</td>\n",
       "      <td>console</td>\n",
       "      <td>6</td>\n",
       "      <td>PlayStation</td>\n",
       "      <td>china</td>\n",
       "      <td>2003-12-20</td>\n",
       "    </tr>\n",
       "    <tr>\n",
       "      <th>9</th>\n",
       "      <td>8</td>\n",
       "      <td>PlayStation 2</td>\n",
       "      <td>Slimline</td>\n",
       "      <td>console</td>\n",
       "      <td>6</td>\n",
       "      <td>PlayStation</td>\n",
       "      <td>north_america</td>\n",
       "      <td>2004-10-29</td>\n",
       "    </tr>\n",
       "    <tr>\n",
       "      <th>10</th>\n",
       "      <td>39</td>\n",
       "      <td>iOS</td>\n",
       "      <td>Initial version</td>\n",
       "      <td>operating system</td>\n",
       "      <td>7</td>\n",
       "      <td>NaN</td>\n",
       "      <td>worldwide</td>\n",
       "      <td>2007-06-29</td>\n",
       "    </tr>\n",
       "  </tbody>\n",
       "</table>\n",
       "</div>"
      ],
      "text/plain": [
       "     id        platform          version          category  generation  \\\n",
       "0   158  Commodore CDTV  Initial version          computer           4   \n",
       "1   158  Commodore CDTV  Initial version          computer           4   \n",
       "2   158  Commodore CDTV  Initial version          computer           4   \n",
       "4     8   PlayStation 2  Initial version           console           6   \n",
       "5     8   PlayStation 2  Initial version           console           6   \n",
       "6     8   PlayStation 2  Initial version           console           6   \n",
       "7     8   PlayStation 2  Initial version           console           6   \n",
       "8     8   PlayStation 2  Initial version           console           6   \n",
       "9     8   PlayStation 2         Slimline           console           6   \n",
       "10   39             iOS  Initial version  operating system           7   \n",
       "\n",
       "   platform_family         region release_date  \n",
       "0              NaN  north_america   1991-03-03  \n",
       "1              NaN         europe   1991-11-14  \n",
       "2              NaN      australia   1991-07-12  \n",
       "4      PlayStation          japan   2000-03-04  \n",
       "5      PlayStation  north_america   2000-10-26  \n",
       "6      PlayStation         europe   2000-11-24  \n",
       "7      PlayStation      australia   2000-11-30  \n",
       "8      PlayStation          china   2003-12-20  \n",
       "9      PlayStation  north_america   2004-10-29  \n",
       "10             NaN      worldwide   2007-06-29  "
      ]
     },
     "execution_count": 18,
     "metadata": {},
     "output_type": "execute_result"
    }
   ],
   "source": [
    "platforms_df.head(10)"
   ]
  },
  {
   "cell_type": "markdown",
   "id": "d4438765-f004-48f0-95cc-8a66f4fda178",
   "metadata": {},
   "source": [
    "The remaining columns will remain as they are because the data with missing values is still useful since we can link and join this information with video games data."
   ]
  },
  {
   "cell_type": "markdown",
   "id": "26b13313-c9d1-4903-946c-882000e0648f",
   "metadata": {},
   "source": [
    "### Outlier detection\n",
    "\n",
    "In this case outliers will not be a problem, in fact, detecting outliers can guide us to analyze specific subsets of data to unravel very hidden insights. This goal will be adressed using boxplots."
   ]
  },
  {
   "cell_type": "markdown",
   "id": "9753e85a-9464-4979-b9ce-2e6250aaaec0",
   "metadata": {},
   "source": [
    "For example, an interesting question would be: How many versions a platform has?"
   ]
  },
  {
   "cell_type": "code",
   "execution_count": 19,
   "id": "dcf7455a-deb7-4f72-8664-76527b15ff75",
   "metadata": {},
   "outputs": [
    {
     "data": {
      "text/plain": [
       "<AxesSubplot:ylabel='Frequency'>"
      ]
     },
     "execution_count": 19,
     "metadata": {},
     "output_type": "execute_result"
    },
    {
     "data": {
      "image/png": "[encoded data removed]",
      "text/plain": [
       "<Figure size 432x288 with 1 Axes>"
      ]
     },
     "metadata": {
      "needs_background": "light"
     },
     "output_type": "display_data"
    }
   ],
   "source": [
    "platforms_df.groupby(\n",
    "    ['platform', \n",
    "     'version'\n",
    "    ]).size().groupby('platform').size().sort_values().plot(kind='hist')"
   ]
  },
  {
   "cell_type": "markdown",
   "id": "9579c6b2-e4c0-4d53-8197-04505c0c8f4c",
   "metadata": {},
   "source": [
    "From the above distribution we can see there are some platforms with more than 4 versions, does this platforms have good or bad videogames?, does the number of versions influences games quality? "
   ]
  },
  {
   "cell_type": "markdown",
   "id": "cfc897d0-f944-440a-89e2-9252c074ac90",
   "metadata": {
    "tags": []
   },
   "source": [
    "Now, we can save this cleaned dataframes"
   ]
  },
  {
   "cell_type": "code",
   "execution_count": 20,
   "id": "5f411efe-7280-45ec-9b89-6c7f65f8b3dd",
   "metadata": {},
   "outputs": [],
   "source": [
    "# Creating the data folder if it does not exists\n",
    "if not os.path.exists('./cleaned_data'):\n",
    "    os.makedirs('./cleaned_data')\n",
    "\n",
    "# Storing the csvs\n",
    "platforms_df.to_csv('./cleaned_data/platforms.csv', index=False)\n",
    "games_df.to_csv('./cleaned_data/games.csv', index=False)\n",
    "\n",
    "# Compressing the csvs\n",
    "with ZipFile('./cleaned_data/platforms.zip', 'w') as zip:\n",
    "    zip.write('./cleaned_data/platforms.csv', \n",
    "              compress_type=zipfile.ZIP_DEFLATED, \n",
    "              compresslevel=9)\n",
    "\n",
    "with ZipFile('./cleaned_data/games.zip', 'w') as zip:\n",
    "    zip.write('./cleaned_data/games.csv', \n",
    "              compress_type=zipfile.ZIP_DEFLATED, \n",
    "              compresslevel=9)\n",
    "    \n",
    "# Removing the csvs\n",
    "os.remove('./cleaned_data/platforms.csv')\n",
    "os.remove('./cleaned_data/games.csv')"
   ]
  }
 ],
 "metadata": {
  "kernelspec": {
   "display_name": "Python 3 (ipykernel)",
   "language": "python",
   "name": "python3"
  },
  "language_info": {
   "codemirror_mode": {
    "name": "ipython",
    "version": 3
   },
   "file_extension": ".py",
   "mimetype": "text/x-python",
   "name": "python",
   "nbconvert_exporter": "python",
   "pygments_lexer": "ipython3",
   "version": "3.8.12"
  }
 },
 "nbformat": 4,
 "nbformat_minor": 5
}
